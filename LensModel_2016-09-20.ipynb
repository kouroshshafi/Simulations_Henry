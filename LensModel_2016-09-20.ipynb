{
 "cells": [
  {
   "cell_type": "code",
   "execution_count": 6,
   "metadata": {
    "collapsed": false
   },
   "outputs": [],
   "source": [
    "import numpy as np\n",
    "import pandas as pd\n",
    "import matplotlib.pyplot as plt"
   ]
  },
  {
   "cell_type": "code",
   "execution_count": 250,
   "metadata": {
    "collapsed": false
   },
   "outputs": [
    {
     "data": {
      "text/html": [
       "<div>\n",
       "<table border=\"1\" class=\"dataframe\">\n",
       "  <thead>\n",
       "    <tr style=\"text-align: right;\">\n",
       "      <th></th>\n",
       "      <th>management</th>\n",
       "      <th>no_investors</th>\n",
       "      <th>target</th>\n",
       "      <th>Qj</th>\n",
       "    </tr>\n",
       "  </thead>\n",
       "  <tbody>\n",
       "    <tr>\n",
       "      <th>0</th>\n",
       "      <td>75</td>\n",
       "      <td>50</td>\n",
       "      <td>50</td>\n",
       "      <td>22.5</td>\n",
       "    </tr>\n",
       "  </tbody>\n",
       "</table>\n",
       "</div>"
      ],
      "text/plain": [
       "   management  no_investors  target    Qj\n",
       "0          75            50      50  22.5"
      ]
     },
     "execution_count": 250,
     "metadata": {},
     "output_type": "execute_result"
    }
   ],
   "source": [
    "df_environment = pd.DataFrame({\"target\": 50,\n",
    "                       \"management\": 75,\n",
    "                       \"no_investors\": 50}, index= np.arange(1))\n",
    "\n",
    "b_target, b_management, b_investors = -0.7, 0.1,1\n",
    "df_environment[\"Qj\"]= b_target*df_environment[\"target\"]+b_management*df_environment[\"management\"]+b_investors*df_environment[\"no_investors\"]\n",
    "\n",
    "df_environment"
   ]
  },
  {
   "cell_type": "code",
   "execution_count": 259,
   "metadata": {
    "collapsed": false,
    "scrolled": true
   },
   "outputs": [
    {
     "data": {
      "text/html": [
       "<div>\n",
       "<table border=\"1\" class=\"dataframe\">\n",
       "  <thead>\n",
       "    <tr style=\"text-align: right;\">\n",
       "      <th></th>\n",
       "      <th>management</th>\n",
       "      <th>no_investors</th>\n",
       "      <th>target</th>\n",
       "      <th>Qij</th>\n",
       "    </tr>\n",
       "  </thead>\n",
       "  <tbody>\n",
       "    <tr>\n",
       "      <th>0</th>\n",
       "      <td>60.124388</td>\n",
       "      <td>1.0</td>\n",
       "      <td>49.140048</td>\n",
       "      <td>-0.271903</td>\n",
       "    </tr>\n",
       "    <tr>\n",
       "      <th>1</th>\n",
       "      <td>80.444783</td>\n",
       "      <td>1.0</td>\n",
       "      <td>58.791181</td>\n",
       "      <td>-0.316445</td>\n",
       "    </tr>\n",
       "    <tr>\n",
       "      <th>2</th>\n",
       "      <td>90.807945</td>\n",
       "      <td>1.0</td>\n",
       "      <td>65.838700</td>\n",
       "      <td>-0.354723</td>\n",
       "    </tr>\n",
       "    <tr>\n",
       "      <th>3</th>\n",
       "      <td>95.523000</td>\n",
       "      <td>1.0</td>\n",
       "      <td>66.434741</td>\n",
       "      <td>-0.353027</td>\n",
       "    </tr>\n",
       "    <tr>\n",
       "      <th>4</th>\n",
       "      <td>70.461231</td>\n",
       "      <td>1.0</td>\n",
       "      <td>41.335261</td>\n",
       "      <td>-0.201478</td>\n",
       "    </tr>\n",
       "  </tbody>\n",
       "</table>\n",
       "</div>"
      ],
      "text/plain": [
       "   management  no_investors     target       Qij\n",
       "0   60.124388           1.0  49.140048 -0.271903\n",
       "1   80.444783           1.0  58.791181 -0.316445\n",
       "2   90.807945           1.0  65.838700 -0.354723\n",
       "3   95.523000           1.0  66.434741 -0.353027\n",
       "4   70.461231           1.0  41.335261 -0.201478"
      ]
     },
     "execution_count": 259,
     "metadata": {},
     "output_type": "execute_result"
    }
   ],
   "source": [
    "no_base_viewings= 100.0\n",
    "\n",
    "mu_target, sigma_target = df_environment.loc[0, \"target\"], 20 # mean and standard deviation\n",
    "s_target = np.random.normal(mu_target, sigma_target, 100)\n",
    "\n",
    "mu_management, sigma_management = df_environment.loc[0,\"management\"], 10 # mean and standard deviation\n",
    "s_management = np.random.normal(mu_management, sigma_management, 100)\n",
    "\n",
    "\n",
    "df_agent = pd.DataFrame({\"target\": s_target,\n",
    "                       \"management\": s_management,\n",
    "                       \"no_investors\": np.zeros((100))}, index= np.arange(100))\n",
    "\n",
    "df_agent[\"Qij\"]=np.zeros((100, 1))\n",
    "\n",
    "\n",
    "\n",
    "for i in range(100):\n",
    "    #df_agent[\"Pos_Qij\"]=np.sign(df_agent.Qij)\n",
    "    df_agent[\"Count_Qij\"]=df_agent.Qij > -0.1\n",
    "    c= df_agent.loc[:i,\"Count_Qij\"].value_counts()\n",
    "    #cum_investors=c.get(1.0)\n",
    "    cum_investors=c.get(True)\n",
    "    if cum_investors is None:\n",
    "        cum_investors=0\n",
    "    #print(cum_investors)\n",
    "    #cum_investors= df_agent.loc[:i,\"Pos_Qij\"].sum()  #df_agent[\"no_investors\"]\n",
    "    df_agent.loc[i,\"no_investors\"]=cum_investors\n",
    "    b_target, b_management, b_investors = -0.7+np.random.randn()*0.1, 0.1+np.random.randn()*0.1,1+np.random.randn()*0.1\n",
    "    df_agent.loc[i,\"Qij\"]= 1.0/no_base_viewings*(b_target*df_agent.loc[i,\"target\"]+b_management*df_agent.loc[i,\"management\"]+b_investors* cum_investors)\n",
    "\n",
    "df_agent = df_agent.drop('Count_Qij', 1)\n",
    "df_agent.head()"
   ]
  },
  {
   "cell_type": "code",
   "execution_count": 260,
   "metadata": {
    "collapsed": false
   },
   "outputs": [
    {
     "data": {
      "text/html": [
       "<div>\n",
       "<table border=\"1\" class=\"dataframe\">\n",
       "  <thead>\n",
       "    <tr style=\"text-align: right;\">\n",
       "      <th></th>\n",
       "      <th>management</th>\n",
       "      <th>no_investors</th>\n",
       "      <th>target</th>\n",
       "      <th>Qij</th>\n",
       "    </tr>\n",
       "  </thead>\n",
       "  <tbody>\n",
       "    <tr>\n",
       "      <th>95</th>\n",
       "      <td>74.176061</td>\n",
       "      <td>30.0</td>\n",
       "      <td>43.204981</td>\n",
       "      <td>0.096707</td>\n",
       "    </tr>\n",
       "    <tr>\n",
       "      <th>96</th>\n",
       "      <td>69.847800</td>\n",
       "      <td>31.0</td>\n",
       "      <td>48.584617</td>\n",
       "      <td>0.062349</td>\n",
       "    </tr>\n",
       "    <tr>\n",
       "      <th>97</th>\n",
       "      <td>75.711850</td>\n",
       "      <td>32.0</td>\n",
       "      <td>42.946712</td>\n",
       "      <td>0.121751</td>\n",
       "    </tr>\n",
       "    <tr>\n",
       "      <th>98</th>\n",
       "      <td>54.153802</td>\n",
       "      <td>33.0</td>\n",
       "      <td>32.317032</td>\n",
       "      <td>0.182456</td>\n",
       "    </tr>\n",
       "    <tr>\n",
       "      <th>99</th>\n",
       "      <td>90.247945</td>\n",
       "      <td>34.0</td>\n",
       "      <td>71.997037</td>\n",
       "      <td>-0.051071</td>\n",
       "    </tr>\n",
       "  </tbody>\n",
       "</table>\n",
       "</div>"
      ],
      "text/plain": [
       "    management  no_investors     target       Qij\n",
       "95   74.176061          30.0  43.204981  0.096707\n",
       "96   69.847800          31.0  48.584617  0.062349\n",
       "97   75.711850          32.0  42.946712  0.121751\n",
       "98   54.153802          33.0  32.317032  0.182456\n",
       "99   90.247945          34.0  71.997037 -0.051071"
      ]
     },
     "execution_count": 260,
     "metadata": {},
     "output_type": "execute_result"
    }
   ],
   "source": [
    "df_agent.tail()\n"
   ]
  },
  {
   "cell_type": "code",
   "execution_count": 261,
   "metadata": {
    "collapsed": false
   },
   "outputs": [
    {
     "name": "stdout",
     "output_type": "stream",
     "text": [
      "20.576459031\n",
      "1.92354096903\n"
     ]
    }
   ],
   "source": [
    "#df_agent[\"AME\"] = abs(df_agent[\"Qj\"]- df_agent[\"Qij\"])\n",
    "print(abs(df_environment.loc[0,\"Qj\"]- df_agent.Qij[df_agent.Qij>0].sum()))\n",
    "#df_agent[\"AME\"].mean()\n",
    "print(df_agent.Qij[df_agent.Qij>0].sum())"
   ]
  },
  {
   "cell_type": "code",
   "execution_count": null,
   "metadata": {
    "collapsed": false
   },
   "outputs": [],
   "source": []
  },
  {
   "cell_type": "code",
   "execution_count": null,
   "metadata": {
    "collapsed": false
   },
   "outputs": [],
   "source": []
  },
  {
   "cell_type": "code",
   "execution_count": null,
   "metadata": {
    "collapsed": true
   },
   "outputs": [],
   "source": []
  }
 ],
 "metadata": {
  "kernelspec": {
   "display_name": "Python 2",
   "language": "python",
   "name": "python2"
  },
  "language_info": {
   "codemirror_mode": {
    "name": "ipython",
    "version": 2
   },
   "file_extension": ".py",
   "mimetype": "text/x-python",
   "name": "python",
   "nbconvert_exporter": "python",
   "pygments_lexer": "ipython2",
   "version": "2.7.12"
  }
 },
 "nbformat": 4,
 "nbformat_minor": 0
}
